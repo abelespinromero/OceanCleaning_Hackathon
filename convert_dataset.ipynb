{
 "cells": [
  {
   "cell_type": "markdown",
   "metadata": {},
   "source": [
    "# Transformación del dataset"
   ]
  },
  {
   "cell_type": "code",
   "execution_count": 4,
   "metadata": {},
   "outputs": [],
   "source": [
    "import xarray as xr\n",
    "import pandas as pd\n",
    "import numpy as np\n",
    "ds = xr.open_dataset('global-marine-litter-2021.nc')\n",
    "df = ds.to_dataframe()\n"
   ]
  },
  {
   "cell_type": "code",
   "execution_count": 5,
   "metadata": {},
   "outputs": [],
   "source": [
    "lon = df['lon'].values\n",
    "lat = df['lat'].values"
   ]
  },
  {
   "cell_type": "code",
   "execution_count": 6,
   "metadata": {},
   "outputs": [],
   "source": [
    "\n",
    "samples = np.arange(0, len(lon)//366, 1, dtype=int)\n",
    "trajectoria = np.repeat(samples, 366)"
   ]
  },
  {
   "cell_type": "code",
   "execution_count": 8,
   "metadata": {},
   "outputs": [],
   "source": [
    "\n",
    "days = [i for i in range(366)]\n",
    "b = days*(len(lon)//366)\n"
   ]
  },
  {
   "cell_type": "code",
   "execution_count": 9,
   "metadata": {},
   "outputs": [],
   "source": [
    "dic = {'id':trajectoria, 'days':b, 'lon':lon, 'lat':lat}\n"
   ]
  },
  {
   "cell_type": "code",
   "execution_count": 10,
   "metadata": {},
   "outputs": [],
   "source": [
    "\n",
    "d = pd.DataFrame(dic)"
   ]
  },
  {
   "cell_type": "code",
   "execution_count": 11,
   "metadata": {},
   "outputs": [
    {
     "data": {
      "text/html": [
       "<div>\n",
       "<style scoped>\n",
       "    .dataframe tbody tr th:only-of-type {\n",
       "        vertical-align: middle;\n",
       "    }\n",
       "\n",
       "    .dataframe tbody tr th {\n",
       "        vertical-align: top;\n",
       "    }\n",
       "\n",
       "    .dataframe thead th {\n",
       "        text-align: right;\n",
       "    }\n",
       "</style>\n",
       "<table border=\"1\" class=\"dataframe\">\n",
       "  <thead>\n",
       "    <tr style=\"text-align: right;\">\n",
       "      <th></th>\n",
       "      <th>id</th>\n",
       "      <th>days</th>\n",
       "      <th>lon</th>\n",
       "      <th>lat</th>\n",
       "    </tr>\n",
       "  </thead>\n",
       "  <tbody>\n",
       "    <tr>\n",
       "      <th>0</th>\n",
       "      <td>0</td>\n",
       "      <td>0</td>\n",
       "      <td>-175.496201</td>\n",
       "      <td>-21.259300</td>\n",
       "    </tr>\n",
       "    <tr>\n",
       "      <th>1</th>\n",
       "      <td>0</td>\n",
       "      <td>1</td>\n",
       "      <td>-175.740204</td>\n",
       "      <td>-21.281717</td>\n",
       "    </tr>\n",
       "    <tr>\n",
       "      <th>2</th>\n",
       "      <td>0</td>\n",
       "      <td>2</td>\n",
       "      <td>-175.841034</td>\n",
       "      <td>-21.276018</td>\n",
       "    </tr>\n",
       "    <tr>\n",
       "      <th>3</th>\n",
       "      <td>0</td>\n",
       "      <td>3</td>\n",
       "      <td>-175.884720</td>\n",
       "      <td>-21.318092</td>\n",
       "    </tr>\n",
       "    <tr>\n",
       "      <th>4</th>\n",
       "      <td>0</td>\n",
       "      <td>4</td>\n",
       "      <td>-176.024948</td>\n",
       "      <td>-21.361267</td>\n",
       "    </tr>\n",
       "    <tr>\n",
       "      <th>...</th>\n",
       "      <td>...</td>\n",
       "      <td>...</td>\n",
       "      <td>...</td>\n",
       "      <td>...</td>\n",
       "    </tr>\n",
       "    <tr>\n",
       "      <th>141861595</th>\n",
       "      <td>387599</td>\n",
       "      <td>361</td>\n",
       "      <td>91.427315</td>\n",
       "      <td>21.585546</td>\n",
       "    </tr>\n",
       "    <tr>\n",
       "      <th>141861596</th>\n",
       "      <td>387599</td>\n",
       "      <td>362</td>\n",
       "      <td>91.408577</td>\n",
       "      <td>21.539993</td>\n",
       "    </tr>\n",
       "    <tr>\n",
       "      <th>141861597</th>\n",
       "      <td>387599</td>\n",
       "      <td>363</td>\n",
       "      <td>91.397980</td>\n",
       "      <td>21.507757</td>\n",
       "    </tr>\n",
       "    <tr>\n",
       "      <th>141861598</th>\n",
       "      <td>387599</td>\n",
       "      <td>364</td>\n",
       "      <td>91.371414</td>\n",
       "      <td>21.428843</td>\n",
       "    </tr>\n",
       "    <tr>\n",
       "      <th>141861599</th>\n",
       "      <td>387599</td>\n",
       "      <td>365</td>\n",
       "      <td>91.368362</td>\n",
       "      <td>21.345936</td>\n",
       "    </tr>\n",
       "  </tbody>\n",
       "</table>\n",
       "<p>141861600 rows × 4 columns</p>\n",
       "</div>"
      ],
      "text/plain": [
       "               id  days         lon        lat\n",
       "0               0     0 -175.496201 -21.259300\n",
       "1               0     1 -175.740204 -21.281717\n",
       "2               0     2 -175.841034 -21.276018\n",
       "3               0     3 -175.884720 -21.318092\n",
       "4               0     4 -176.024948 -21.361267\n",
       "...           ...   ...         ...        ...\n",
       "141861595  387599   361   91.427315  21.585546\n",
       "141861596  387599   362   91.408577  21.539993\n",
       "141861597  387599   363   91.397980  21.507757\n",
       "141861598  387599   364   91.371414  21.428843\n",
       "141861599  387599   365   91.368362  21.345936\n",
       "\n",
       "[141861600 rows x 4 columns]"
      ]
     },
     "execution_count": 11,
     "metadata": {},
     "output_type": "execute_result"
    }
   ],
   "source": [
    "\n",
    "d"
   ]
  },
  {
   "cell_type": "code",
   "execution_count": 12,
   "metadata": {},
   "outputs": [],
   "source": [
    "d.to_csv('data.csv', index=False)"
   ]
  },
  {
   "cell_type": "code",
   "execution_count": null,
   "metadata": {},
   "outputs": [],
   "source": [
    "df1 = pd.read_csv(\"initial-locations-global.csv\")\n",
    "df1 = df1.iloc[:2000, :]\n",
    "df1 = df1.drop(['weight [ton]', \"source [0:land, 1:river]\",\"country id\",\"distance to coast [km]\"], axis=1)\n",
    "\n",
    "d = d.drop(d.columns[0], axis=1)\n",
    "\n",
    "countries = df1.loc[:, \"country\"].values\n",
    "countries = np.repeat(countries, 366, axis = None)\n",
    "\n",
    "d['Country'] = countries\n",
    "\n",
    "d.to_csv(\"data_countries.csv\", index=False)"
   ]
  }
 ],
 "metadata": {
  "kernelspec": {
   "display_name": "Python 3.9.13 ('hack')",
   "language": "python",
   "name": "python3"
  },
  "language_info": {
   "codemirror_mode": {
    "name": "ipython",
    "version": 3
   },
   "file_extension": ".py",
   "mimetype": "text/x-python",
   "name": "python",
   "nbconvert_exporter": "python",
   "pygments_lexer": "ipython3",
   "version": "3.9.13"
  },
  "orig_nbformat": 4,
  "vscode": {
   "interpreter": {
    "hash": "c0b3435e628532d47b037e3755a1156758599e61ee059bb412eecd4774bcd400"
   }
  }
 },
 "nbformat": 4,
 "nbformat_minor": 2
}
