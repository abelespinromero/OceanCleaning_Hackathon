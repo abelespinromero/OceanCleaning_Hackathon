{
 "cells": [
  {
   "cell_type": "code",
   "execution_count": 54,
   "metadata": {},
   "outputs": [],
   "source": [
    "import pandas as pd\n",
    "import numpy as np\n",
    "\n",
    "df = pd.read_csv('data.csv')"
   ]
  },
  {
   "cell_type": "code",
   "execution_count": 39,
   "metadata": {},
   "outputs": [],
   "source": [
    "start = df[(df.days == 0 ) | (df.days == 365)]"
   ]
  },
  {
   "cell_type": "code",
   "execution_count": 41,
   "metadata": {},
   "outputs": [
    {
     "data": {
      "text/html": [
       "<div>\n",
       "<style scoped>\n",
       "    .dataframe tbody tr th:only-of-type {\n",
       "        vertical-align: middle;\n",
       "    }\n",
       "\n",
       "    .dataframe tbody tr th {\n",
       "        vertical-align: top;\n",
       "    }\n",
       "\n",
       "    .dataframe thead th {\n",
       "        text-align: right;\n",
       "    }\n",
       "</style>\n",
       "<table border=\"1\" class=\"dataframe\">\n",
       "  <thead>\n",
       "    <tr style=\"text-align: right;\">\n",
       "      <th></th>\n",
       "      <th>id</th>\n",
       "      <th>days</th>\n",
       "      <th>lon</th>\n",
       "      <th>lat</th>\n",
       "    </tr>\n",
       "  </thead>\n",
       "  <tbody>\n",
       "    <tr>\n",
       "      <th>0</th>\n",
       "      <td>0</td>\n",
       "      <td>0</td>\n",
       "      <td>-175.496200</td>\n",
       "      <td>-21.259300</td>\n",
       "    </tr>\n",
       "    <tr>\n",
       "      <th>365</th>\n",
       "      <td>0</td>\n",
       "      <td>365</td>\n",
       "      <td>178.258940</td>\n",
       "      <td>-23.204432</td>\n",
       "    </tr>\n",
       "    <tr>\n",
       "      <th>366</th>\n",
       "      <td>1</td>\n",
       "      <td>0</td>\n",
       "      <td>-175.536900</td>\n",
       "      <td>-21.052700</td>\n",
       "    </tr>\n",
       "    <tr>\n",
       "      <th>731</th>\n",
       "      <td>1</td>\n",
       "      <td>365</td>\n",
       "      <td>167.681800</td>\n",
       "      <td>-25.262985</td>\n",
       "    </tr>\n",
       "    <tr>\n",
       "      <th>732</th>\n",
       "      <td>2</td>\n",
       "      <td>0</td>\n",
       "      <td>-174.884000</td>\n",
       "      <td>-21.178800</td>\n",
       "    </tr>\n",
       "    <tr>\n",
       "      <th>...</th>\n",
       "      <td>...</td>\n",
       "      <td>...</td>\n",
       "      <td>...</td>\n",
       "      <td>...</td>\n",
       "    </tr>\n",
       "    <tr>\n",
       "      <th>141860867</th>\n",
       "      <td>387597</td>\n",
       "      <td>365</td>\n",
       "      <td>91.396355</td>\n",
       "      <td>21.316368</td>\n",
       "    </tr>\n",
       "    <tr>\n",
       "      <th>141860868</th>\n",
       "      <td>387598</td>\n",
       "      <td>0</td>\n",
       "      <td>NaN</td>\n",
       "      <td>NaN</td>\n",
       "    </tr>\n",
       "    <tr>\n",
       "      <th>141861233</th>\n",
       "      <td>387598</td>\n",
       "      <td>365</td>\n",
       "      <td>91.353570</td>\n",
       "      <td>21.269978</td>\n",
       "    </tr>\n",
       "    <tr>\n",
       "      <th>141861234</th>\n",
       "      <td>387599</td>\n",
       "      <td>0</td>\n",
       "      <td>NaN</td>\n",
       "      <td>NaN</td>\n",
       "    </tr>\n",
       "    <tr>\n",
       "      <th>141861599</th>\n",
       "      <td>387599</td>\n",
       "      <td>365</td>\n",
       "      <td>91.368360</td>\n",
       "      <td>21.345936</td>\n",
       "    </tr>\n",
       "  </tbody>\n",
       "</table>\n",
       "<p>775200 rows × 4 columns</p>\n",
       "</div>"
      ],
      "text/plain": [
       "               id  days         lon        lat\n",
       "0               0     0 -175.496200 -21.259300\n",
       "365             0   365  178.258940 -23.204432\n",
       "366             1     0 -175.536900 -21.052700\n",
       "731             1   365  167.681800 -25.262985\n",
       "732             2     0 -174.884000 -21.178800\n",
       "...           ...   ...         ...        ...\n",
       "141860867  387597   365   91.396355  21.316368\n",
       "141860868  387598     0         NaN        NaN\n",
       "141861233  387598   365   91.353570  21.269978\n",
       "141861234  387599     0         NaN        NaN\n",
       "141861599  387599   365   91.368360  21.345936\n",
       "\n",
       "[775200 rows x 4 columns]"
      ]
     },
     "execution_count": 41,
     "metadata": {},
     "output_type": "execute_result"
    }
   ],
   "source": [
    "start"
   ]
  },
  {
   "cell_type": "code",
   "execution_count": 57,
   "metadata": {},
   "outputs": [],
   "source": [
    "array = start[['lon', 'lat']].values"
   ]
  },
  {
   "cell_type": "code",
   "execution_count": 58,
   "metadata": {},
   "outputs": [],
   "source": [
    "array = array.reshape(len(array)//2, 4)\n",
    "\n",
    "d1 = pd.DataFrame(array, columns=['lon_x', 'lat_x', 'lon_y', 'lay_y'])"
   ]
  },
  {
   "cell_type": "code",
   "execution_count": 60,
   "metadata": {},
   "outputs": [],
   "source": [
    "d1 = d1.dropna()\n",
    "d1.to_csv('cleaned_data.csv')"
   ]
  }
 ],
 "metadata": {
  "kernelspec": {
   "display_name": "Python 3.10.6 64-bit",
   "language": "python",
   "name": "python3"
  },
  "language_info": {
   "codemirror_mode": {
    "name": "ipython",
    "version": 3
   },
   "file_extension": ".py",
   "mimetype": "text/x-python",
   "name": "python",
   "nbconvert_exporter": "python",
   "pygments_lexer": "ipython3",
   "version": "3.10.6"
  },
  "orig_nbformat": 4,
  "vscode": {
   "interpreter": {
    "hash": "db9271230518dd4d2be1392038f1c442bdbb2abf56e90a13b3826ea9c8c5b6c5"
   }
  }
 },
 "nbformat": 4,
 "nbformat_minor": 2
}
